{
 "cells": [
  {
   "cell_type": "markdown",
   "id": "7676dc14",
   "metadata": {},
   "source": [
    "1605. Find Valid Matrix Given Row and Column Sums\n",
    "Attempted\n",
    "Medium\n",
    "Topics\n",
    "Companies\n",
    "Hint\n",
    "\n",
    "You are given two arrays rowSum and colSum of non-negative integers where rowSum[i] is the sum of the elements in the ith row and colSum[j] is the sum of the elements of the jth column of a 2D matrix. In other words, you do not know the elements of the matrix, but you do know the sums of each row and column.\n",
    "\n",
    "Find any matrix of non-negative integers of size rowSum.length x colSum.length that satisfies the rowSum and colSum requirements.\n",
    "\n",
    "Return a 2D array representing any matrix that fulfills the requirements. It's guaranteed that at least one matrix that fulfills the requirements exists.\n",
    "\n",
    " \n",
    "\n",
    "Example 1:\n",
    "\n",
    "Input: rowSum = [3,8], colSum = [4,7]\n",
    "Output: [[3,0],\n",
    "         [1,7]]\n",
    "Explanation: \n",
    "0th row: 3 + 0 = 3 == rowSum[0]\n",
    "1st row: 1 + 7 = 8 == rowSum[1]\n",
    "0th column: 3 + 1 = 4 == colSum[0]\n",
    "1st column: 0 + 7 = 7 == colSum[1]\n",
    "The row and column sums match, and all matrix elements are non-negative.\n",
    "Another possible matrix is: [[1,2],\n",
    "                             [3,5]]\n",
    "\n",
    "Example 2:\n",
    "\n",
    "Input: rowSum = [5,7,10], colSum = [8,6,8]\n",
    "Output: [[0,5,0],\n",
    "         [6,1,0],\n",
    "         [2,0,8]]\n"
   ]
  },
  {
   "cell_type": "code",
   "execution_count": null,
   "id": "d2252237",
   "metadata": {},
   "outputs": [],
   "source": []
  },
  {
   "cell_type": "code",
   "execution_count": 1,
   "id": "555ed7c9",
   "metadata": {},
   "outputs": [
    {
     "name": "stdout",
     "output_type": "stream",
     "text": [
      "[3, 8, 4, 7]\n",
      "[0, 1]\n"
     ]
    }
   ],
   "source": [
    "def restoreMatrix(rowSum, colSum):\n",
    "    all_nums = rowSum + colSum\n",
    "    row_len = len(rowSum)\n",
    "    rows = []\n",
    "    for i in range(row_len):\n",
    "        rows.append(i)\n",
    "    print(rows)\n",
    "\n",
    "\n",
    "rowSum = [3, 8]\n",
    "colSum = [4, 7]\n",
    "total = rowSum + colSum\n",
    "print(total)\n",
    "restoreMatrix(rowSum, colSum)"
   ]
  },
  {
   "cell_type": "code",
   "execution_count": null,
   "id": "6ad708b9",
   "metadata": {},
   "outputs": [],
   "source": []
  }
 ],
 "metadata": {
  "kernelspec": {
   "display_name": "Python 3 (ipykernel)",
   "language": "python",
   "name": "python3"
  },
  "language_info": {
   "codemirror_mode": {
    "name": "ipython",
    "version": 3
   },
   "file_extension": ".py",
   "mimetype": "text/x-python",
   "name": "python",
   "nbconvert_exporter": "python",
   "pygments_lexer": "ipython3",
   "version": "3.12.4"
  }
 },
 "nbformat": 4,
 "nbformat_minor": 5
}
