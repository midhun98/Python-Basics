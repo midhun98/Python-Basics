{
 "cells": [
  {
   "cell_type": "markdown",
   "id": "755e9832",
   "metadata": {},
   "source": [
    "### Input: nums = [2,7,11,15], target = 9 \n",
    "Output: [0,1]  \\\n",
    "Explanation: Because nums[0] + nums[1] == 9, we return [0, 1]."
   ]
  },
  {
   "cell_type": "code",
   "execution_count": 12,
   "id": "6709528e",
   "metadata": {},
   "outputs": [],
   "source": [
    "nums = [2,7,11,15]\n",
    "result = {}\n",
    "target = 9"
   ]
  },
  {
   "cell_type": "code",
   "execution_count": 15,
   "id": "0db64316",
   "metadata": {},
   "outputs": [
    {
     "name": "stdout",
     "output_type": "stream",
     "text": [
      "0 1\n"
     ]
    }
   ],
   "source": [
    "for  index, number in enumerate(nums):\n",
    "    num = target - number\n",
    "    if num in result:\n",
    "        print(result[num], index)\n",
    "    result[number] = index"
   ]
  }
 ],
 "metadata": {
  "kernelspec": {
   "display_name": "Python 3 (ipykernel)",
   "language": "python",
   "name": "python3"
  },
  "language_info": {
   "codemirror_mode": {
    "name": "ipython",
    "version": 3
   },
   "file_extension": ".py",
   "mimetype": "text/x-python",
   "name": "python",
   "nbconvert_exporter": "python",
   "pygments_lexer": "ipython3",
   "version": "3.11.5"
  }
 },
 "nbformat": 4,
 "nbformat_minor": 5
}
