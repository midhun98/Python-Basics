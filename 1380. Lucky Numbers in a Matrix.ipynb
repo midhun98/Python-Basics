{
 "cells": [
  {
   "cell_type": "markdown",
   "id": "139eef0b",
   "metadata": {},
   "source": [
    "# LeetCode 1380. Lucky Numbers in a Matrix\n",
    "\n",
    "Given an m x n matrix of distinct numbers, return all lucky numbers in the matrix in any order.\n",
    "\n",
    "A lucky number is an element of the matrix such that it is the minimum element in its row and maximum in its column.\n",
    "\n",
    " \n",
    "\n",
    "Example 1:\n",
    "\n",
    "Input: matrix = [[3,7,8],[9,11,13],[15,16,17]]\n",
    "Output: [15]\n",
    "Explanation: 15 is the only lucky number since it is the minimum in its row and the maximum in its column.\n",
    "\n",
    "Example 2:\n",
    "\n",
    "Input: matrix = [[1,10,4,2],[9,3,8,7],[15,16,17,12]]\n",
    "Output: [12]\n",
    "Explanation: 12 is the only lucky number since it is the minimum in its row and the maximum in its column.\n",
    "\n",
    "Example 3:\n",
    "\n",
    "Input: matrix = [[7,8],[1,2]]\n",
    "Output: [7]\n",
    "Explanation: 7 is the only lucky number since it is the minimum in its row and the maximum in its column.\n"
   ]
  },
  {
   "cell_type": "code",
   "execution_count": 20,
   "id": "7124af0b",
   "metadata": {},
   "outputs": [],
   "source": [
    "def luckyNumbers(matrix):\n",
    "\trows = len(matrix)\n",
    "\tcols = len(matrix[0])\n",
    "\tsmaller_row = []\n",
    "\tlarger_col = []\n",
    "\tfor li in matrix:\n",
    "\t\tsmaller_row.append(min(li))\n",
    "\tcolumn_wise = []\n",
    "\tfor i in range(0, cols):\n",
    "\t\tcolumn_elements = []\n",
    "\t\tfor j in range(0, rows):\n",
    "\t\t\tcolumn_elements.append(matrix[j][i])\n",
    "\t\tcolumn_wise.append(column_elements)\n",
    "\tfor li in column_wise:\n",
    "\t\tlarger_col.append(max(li))\n",
    "\tvalue1 = min(larger_col)\n",
    "\tvalue2 = max(smaller_row)\n",
    "\tif value2 == value1:\n",
    "\t\treturn [value2]\n",
    "\treturn []"
   ]
  },
  {
   "cell_type": "code",
   "execution_count": 21,
   "id": "c84a44a9",
   "metadata": {},
   "outputs": [
    {
     "name": "stdout",
     "output_type": "stream",
     "text": [
      "[]\n"
     ]
    },
    {
     "data": {
      "text/plain": [
       "[4]"
      ]
     },
     "execution_count": 21,
     "metadata": {},
     "output_type": "execute_result"
    }
   ],
   "source": [
    "print(luckyNumbers([[3, 6], [7, 1], [5, 2], [4, 8]]))\n",
    "luckyNumbers([[1, 2, 3], [4, 5, 6]])"
   ]
  },
  {
   "cell_type": "code",
   "execution_count": 33,
   "id": "d4263c6c",
   "metadata": {},
   "outputs": [],
   "source": [
    "def luckyNumbers(matrix):\n",
    "\tnum_rows = len(matrix)\n",
    "\tnum_cols = len(matrix[0])\n",
    "\n",
    "\tsmall_row = []\n",
    "\tfor li in matrix:\n",
    "\t\tsmall_row.append(min(li))\n",
    "\tmax_small_row = max(small_row)\n",
    "\n",
    "\tmatrix_cols_wise = []\n",
    "\tfor i in range(num_cols):\n",
    "\t\tcols = []\n",
    "\t\tfor j in range(num_rows):\n",
    "\t\t\tcols.append(matrix[j][i])\n",
    "\t\tmatrix_cols_wise.append(cols)\n",
    "\tlarge_row = []\n",
    "\tfor li in matrix_cols_wise:\n",
    "\t\tlarge_row.append(max(li))\n",
    "\tmin_large_row = min(large_row)\n",
    "\n",
    "\tprint(\"max_small_row\", max_small_row)\n",
    "\tprint(\"min_large_row\", min_large_row)\n",
    "\n",
    "\tif max_small_row == min_large_row:\n",
    "\t\treturn [max_small_row]\n",
    "\treturn []"
   ]
  },
  {
   "cell_type": "code",
   "execution_count": 34,
   "id": "90c9bea6",
   "metadata": {},
   "outputs": [
    {
     "name": "stdout",
     "output_type": "stream",
     "text": [
      "max_small_row 4\n",
      "min_large_row 7\n"
     ]
    },
    {
     "data": {
      "text/plain": [
       "[]"
      ]
     },
     "execution_count": 34,
     "metadata": {},
     "output_type": "execute_result"
    }
   ],
   "source": [
    "luckyNumbers([[3, 6], [7, 1], [5, 2], [4, 8]])"
   ]
  },
  {
   "cell_type": "code",
   "execution_count": null,
   "id": "a22f08df",
   "metadata": {},
   "outputs": [],
   "source": []
  },
  {
   "cell_type": "code",
   "execution_count": null,
   "id": "48c6a5d1",
   "metadata": {},
   "outputs": [],
   "source": []
  },
  {
   "cell_type": "code",
   "execution_count": null,
   "id": "cea7a742",
   "metadata": {},
   "outputs": [],
   "source": []
  },
  {
   "cell_type": "code",
   "execution_count": null,
   "id": "ca6c5216",
   "metadata": {},
   "outputs": [],
   "source": []
  },
  {
   "cell_type": "code",
   "execution_count": null,
   "id": "5d423e54",
   "metadata": {},
   "outputs": [],
   "source": []
  },
  {
   "cell_type": "code",
   "execution_count": null,
   "id": "78469e0d",
   "metadata": {},
   "outputs": [],
   "source": []
  },
  {
   "cell_type": "code",
   "execution_count": null,
   "id": "77edaae8",
   "metadata": {},
   "outputs": [],
   "source": []
  },
  {
   "cell_type": "code",
   "execution_count": null,
   "id": "f51b22ff",
   "metadata": {},
   "outputs": [],
   "source": []
  }
 ],
 "metadata": {
  "kernelspec": {
   "display_name": "Python 3 (ipykernel)",
   "language": "python",
   "name": "python3"
  },
  "language_info": {
   "codemirror_mode": {
    "name": "ipython",
    "version": 3
   },
   "file_extension": ".py",
   "mimetype": "text/x-python",
   "name": "python",
   "nbconvert_exporter": "python",
   "pygments_lexer": "ipython3",
   "version": "3.11.5"
  }
 },
 "nbformat": 4,
 "nbformat_minor": 5
}
