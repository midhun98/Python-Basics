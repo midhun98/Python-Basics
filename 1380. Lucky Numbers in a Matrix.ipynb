{
 "cells": [
  {
   "cell_type": "markdown",
   "id": "139eef0b",
   "metadata": {},
   "source": [
    "# LeetCode 1380. Lucky Numbers in a Matrix\n",
    "\n",
    "Given an m x n matrix of distinct numbers, return all lucky numbers in the matrix in any order.\n",
    "\n",
    "A lucky number is an element of the matrix such that it is the minimum element in its row and maximum in its column.\n",
    "\n",
    " \n",
    "\n",
    "Example 1:\n",
    "\n",
    "Input: matrix = [[3,7,8],[9,11,13],[15,16,17]]\n",
    "Output: [15]\n",
    "Explanation: 15 is the only lucky number since it is the minimum in its row and the maximum in its column.\n",
    "\n",
    "Example 2:\n",
    "\n",
    "Input: matrix = [[1,10,4,2],[9,3,8,7],[15,16,17,12]]\n",
    "Output: [12]\n",
    "Explanation: 12 is the only lucky number since it is the minimum in its row and the maximum in its column.\n",
    "\n",
    "Example 3:\n",
    "\n",
    "Input: matrix = [[7,8],[1,2]]\n",
    "Output: [7]\n",
    "Explanation: 7 is the only lucky number since it is the minimum in its row and the maximum in its column.\n"
   ]
  },
  {
   "cell_type": "code",
   "execution_count": 48,
   "id": "7124af0b",
   "metadata": {},
   "outputs": [],
   "source": [
    "def luckyNumbers(matrix):\n",
    "    rows = len(matrix)\n",
    "    cols = len(matrix[0])\n",
    "    smaller_row = []\n",
    "    larger_col = []\n",
    "    for li in matrix:\n",
    "        smaller_row.append(min(li))\n",
    "    column_wise = []\n",
    "    for i in range(0 , cols):\n",
    "        column_elements = []\n",
    "        for j in range(0 , rows):\n",
    "            column_elements.append(matrix[j][i])\n",
    "        column_wise.append(column_elements)\n",
    "    for li in column_wise:\n",
    "        larger_col.append(max(li))\n",
    "    value1 = min(larger_col)\n",
    "    value2 = max(smaller_row)\n",
    "    if value2 == value1:\n",
    "        return [value2]\n",
    "    return []\n"
   ]
  },
  {
   "cell_type": "code",
   "execution_count": 49,
   "id": "c84a44a9",
   "metadata": {},
   "outputs": [
    {
     "data": {
      "text/plain": [
       "[]"
      ]
     },
     "execution_count": 49,
     "metadata": {},
     "output_type": "execute_result"
    }
   ],
   "source": [
    "luckyNumbers([[3,6],[7,1],[5,2],[4,8]])"
   ]
  },
  {
   "cell_type": "code",
   "execution_count": 50,
   "id": "34971f4b",
   "metadata": {},
   "outputs": [
    {
     "data": {
      "text/plain": [
       "3"
      ]
     },
     "execution_count": 50,
     "metadata": {},
     "output_type": "execute_result"
    }
   ],
   "source": [
    "li = [3,7,8]\n",
    "min(li)"
   ]
  },
  {
   "cell_type": "code",
   "execution_count": 51,
   "id": "ee1b2ad9",
   "metadata": {},
   "outputs": [
    {
     "data": {
      "text/plain": [
       "[[3, 6], [7, 1], [5, 2], [4, 8]]"
      ]
     },
     "execution_count": 51,
     "metadata": {},
     "output_type": "execute_result"
    }
   ],
   "source": [
    "matrix = [[3,6],[7,1],[5,2],[4,8]]\n",
    "matrix"
   ]
  },
  {
   "cell_type": "code",
   "execution_count": 52,
   "id": "95a7aed9",
   "metadata": {},
   "outputs": [
    {
     "name": "stdout",
     "output_type": "stream",
     "text": [
      "4\n",
      "2\n"
     ]
    }
   ],
   "source": [
    "rows = len(matrix)\n",
    "cols = len(matrix[0])\n",
    "print(rows)\n",
    "print(cols)"
   ]
  },
  {
   "cell_type": "code",
   "execution_count": 53,
   "id": "222e756c",
   "metadata": {},
   "outputs": [],
   "source": [
    "column_wise = []\n",
    "for i in range(0 , cols):\n",
    "    column_elements = []\n",
    "    for j in range(0 , rows):\n",
    "        column_elements.append(matrix[j][i])\n",
    "    column_wise.append(column_elements)\n"
   ]
  },
  {
   "cell_type": "code",
   "execution_count": 54,
   "id": "3baed81c",
   "metadata": {},
   "outputs": [
    {
     "data": {
      "text/plain": [
       "[[3, 7, 5, 4], [6, 1, 2, 8]]"
      ]
     },
     "execution_count": 54,
     "metadata": {},
     "output_type": "execute_result"
    }
   ],
   "source": [
    "column_wise"
   ]
  },
  {
   "cell_type": "code",
   "execution_count": 55,
   "id": "a9ea1add",
   "metadata": {},
   "outputs": [
    {
     "name": "stdout",
     "output_type": "stream",
     "text": [
      "7\n"
     ]
    }
   ],
   "source": [
    "larger_col = []\n",
    "for li in column_wise:\n",
    "    larger_col.append(max(li))\n",
    "print(min(larger_col))"
   ]
  },
  {
   "cell_type": "code",
   "execution_count": 61,
   "id": "8f64a4ec",
   "metadata": {},
   "outputs": [
    {
     "name": "stdout",
     "output_type": "stream",
     "text": [
      "rows 2\n",
      "cols 3\n"
     ]
    },
    {
     "data": {
      "text/plain": [
       "[[1, 4], [2, 5], [3, 6]]"
      ]
     },
     "execution_count": 61,
     "metadata": {},
     "output_type": "execute_result"
    }
   ],
   "source": [
    "matrix = [[1,2,3],[4,5,6]]\n",
    "rows = len(matrix)\n",
    "cols = len(matrix[0])\n",
    "print('rows', rows)\n",
    "print('cols', cols)\n",
    "column_wise = []\n",
    "for i in range(cols):\n",
    "    column_elements = []\n",
    "    for j in range(rows):\n",
    "        column_elements.append(matrix[j][i])\n",
    "    column_wise.append(column_elements)\n",
    "column_wise"
   ]
  },
  {
   "cell_type": "code",
   "execution_count": 72,
   "id": "498e0cc6",
   "metadata": {},
   "outputs": [
    {
     "name": "stdout",
     "output_type": "stream",
     "text": [
      "1\n",
      "4\n"
     ]
    }
   ],
   "source": [
    "print(matrix[0][0])\n",
    "# print(matrix[0][1])\n",
    "# print(matrix[0][2])\n",
    "print(matrix[1][0])"
   ]
  },
  {
   "cell_type": "code",
   "execution_count": 77,
   "id": "d4557766",
   "metadata": {},
   "outputs": [
    {
     "name": "stdout",
     "output_type": "stream",
     "text": [
      "1\n",
      "4\n",
      "2\n",
      "5\n",
      "3\n",
      "6\n"
     ]
    }
   ],
   "source": [
    "column_wise = []\n",
    "for i in range(cols):\n",
    "    \n",
    "    for j in range(rows):\n",
    "        print(matrix[j][i])\n"
   ]
  },
  {
   "cell_type": "code",
   "execution_count": null,
   "id": "db482beb",
   "metadata": {},
   "outputs": [],
   "source": []
  }
 ],
 "metadata": {
  "kernelspec": {
   "display_name": "Python 3 (ipykernel)",
   "language": "python",
   "name": "python3"
  },
  "language_info": {
   "codemirror_mode": {
    "name": "ipython",
    "version": 3
   },
   "file_extension": ".py",
   "mimetype": "text/x-python",
   "name": "python",
   "nbconvert_exporter": "python",
   "pygments_lexer": "ipython3",
   "version": "3.11.5"
  }
 },
 "nbformat": 4,
 "nbformat_minor": 5
}
