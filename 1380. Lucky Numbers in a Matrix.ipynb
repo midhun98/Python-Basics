{
 "cells": [
  {
   "cell_type": "markdown",
   "id": "139eef0b",
   "metadata": {},
   "source": [
    "# LeetCode 1380. Lucky Numbers in a Matrix\n",
    "\n",
    "Given an m x n matrix of distinct numbers, return all lucky numbers in the matrix in any order.\n",
    "\n",
    "A lucky number is an element of the matrix such that it is the minimum element in its row and maximum in its column.\n",
    "\n",
    " \n",
    "\n",
    "Example 1:\n",
    "\n",
    "Input: matrix = [[3,7,8],[9,11,13],[15,16,17]]\n",
    "Output: [15]\n",
    "Explanation: 15 is the only lucky number since it is the minimum in its row and the maximum in its column.\n",
    "\n",
    "Example 2:\n",
    "\n",
    "Input: matrix = [[1,10,4,2],[9,3,8,7],[15,16,17,12]]\n",
    "Output: [12]\n",
    "Explanation: 12 is the only lucky number since it is the minimum in its row and the maximum in its column.\n",
    "\n",
    "Example 3:\n",
    "\n",
    "Input: matrix = [[7,8],[1,2]]\n",
    "Output: [7]\n",
    "Explanation: 7 is the only lucky number since it is the minimum in its row and the maximum in its column.\n"
   ]
  },
  {
   "cell_type": "code",
   "execution_count": 20,
   "id": "7124af0b",
   "metadata": {},
   "outputs": [],
   "source": [
    "def luckyNumbers(matrix):\n",
    "    rows = len(matrix)\n",
    "    cols = len(matrix[0])\n",
    "    smaller_row = []\n",
    "    larger_col = []\n",
    "    for li in matrix:\n",
    "        smaller_row.append(min(li))\n",
    "    column_wise = []\n",
    "    for i in range(0 , cols):\n",
    "        column_elements = []\n",
    "        for j in range(0 , rows):\n",
    "            column_elements.append(matrix[j][i])\n",
    "        column_wise.append(column_elements)\n",
    "    for li in column_wise:\n",
    "        larger_col.append(max(li))\n",
    "    value1 = min(larger_col)\n",
    "    value2 = max(smaller_row)\n",
    "    if value2 == value1:\n",
    "        return [value2]\n",
    "    return []\n"
   ]
  },
  {
   "cell_type": "code",
   "execution_count": 21,
   "id": "c84a44a9",
   "metadata": {},
   "outputs": [
    {
     "name": "stdout",
     "output_type": "stream",
     "text": [
      "[]\n"
     ]
    },
    {
     "data": {
      "text/plain": [
       "[4]"
      ]
     },
     "execution_count": 21,
     "metadata": {},
     "output_type": "execute_result"
    }
   ],
   "source": [
    "print(luckyNumbers([[3,6],[7,1],[5,2],[4,8]]))\n",
    "luckyNumbers([[1,2,3],[4,5,6]])\n"
   ]
  },
  {
   "cell_type": "code",
   "execution_count": 33,
   "id": "d4263c6c",
   "metadata": {},
   "outputs": [],
   "source": [
    "def luckyNumbers(matrix):\n",
    "    num_rows = len(matrix)\n",
    "    num_cols = len(matrix[0])\n",
    "\n",
    "    small_row = []\n",
    "    for li in matrix:\n",
    "        small_row.append(min(li))\n",
    "    max_small_row = max(small_row)\n",
    "\n",
    "    matrix_cols_wise = []\n",
    "    for i in range(num_cols):\n",
    "        cols = []\n",
    "        for j in range(num_rows):\n",
    "            cols.append(matrix[j][i])\n",
    "        matrix_cols_wise.append(cols)\n",
    "    large_row = []\n",
    "    for li in matrix_cols_wise:\n",
    "        large_row.append(max(li))\n",
    "    min_large_row = min(large_row)\n",
    "\n",
    "    print('max_small_row', max_small_row)\n",
    "    print('min_large_row', min_large_row)\n",
    "\n",
    "    if max_small_row == min_large_row:\n",
    "        return [max_small_row]\n",
    "    return []\n"
   ]
  },
  {
   "cell_type": "code",
   "execution_count": 34,
   "id": "90c9bea6",
   "metadata": {},
   "outputs": [
    {
     "name": "stdout",
     "output_type": "stream",
     "text": [
      "max_small_row 4\n",
      "min_large_row 7\n"
     ]
    },
    {
     "data": {
      "text/plain": [
       "[]"
      ]
     },
     "execution_count": 34,
     "metadata": {},
     "output_type": "execute_result"
    }
   ],
   "source": [
    "luckyNumbers([[3,6],[7,1],[5,2],[4,8]])\n"
   ]
  },
  {
   "cell_type": "code",
   "execution_count": null,
   "id": "a22f08df",
   "metadata": {},
   "outputs": [],
   "source": []
  },
  {
   "cell_type": "code",
   "execution_count": null,
   "id": "48c6a5d1",
   "metadata": {},
   "outputs": [],
   "source": []
  },
  {
   "cell_type": "code",
   "execution_count": null,
   "id": "cea7a742",
   "metadata": {},
   "outputs": [],
   "source": []
  },
  {
   "cell_type": "code",
   "execution_count": null,
   "id": "ca6c5216",
   "metadata": {},
   "outputs": [],
   "source": []
  },
  {
   "cell_type": "code",
   "execution_count": null,
   "id": "5d423e54",
   "metadata": {},
   "outputs": [],
   "source": []
  },
  {
   "cell_type": "code",
   "execution_count": null,
   "id": "78469e0d",
   "metadata": {},
   "outputs": [],
   "source": []
  },
  {
   "cell_type": "code",
   "execution_count": null,
   "id": "77edaae8",
   "metadata": {},
   "outputs": [],
   "source": []
  },
  {
   "cell_type": "code",
   "execution_count": null,
   "id": "f51b22ff",
   "metadata": {},
   "outputs": [],
   "source": []
  }
 ],
 "metadata": {
  "kernelspec": {
   "display_name": "Python 3 (ipykernel)",
   "language": "python",
   "name": "python3"
  },
  "language_info": {
   "codemirror_mode": {
    "name": "ipython",
    "version": 3
   },
   "file_extension": ".py",
   "mimetype": "text/x-python",
   "name": "python",
   "nbconvert_exporter": "python",
   "pygments_lexer": "ipython3",
   "version": "3.11.5"
  }
 },
 "nbformat": 4,
 "nbformat_minor": 5
}
