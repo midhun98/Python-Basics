{
 "cells": [
  {
   "cell_type": "code",
   "execution_count": 21,
   "id": "4e0b2d27",
   "metadata": {},
   "outputs": [
    {
     "name": "stdout",
     "output_type": "stream",
     "text": [
      "[1, 2, 3, 4]\n"
     ]
    }
   ],
   "source": [
    "nums1 = [1,2]\n",
    "nums2 = [3,4]\n",
    "\n",
    "num3 = nums1 + nums2\n",
    "num3.sort()\n",
    "print(num3)\n",
    "len_num3 = len(num3)"
   ]
  },
  {
   "cell_type": "code",
   "execution_count": 22,
   "id": "64a28d03",
   "metadata": {},
   "outputs": [
    {
     "name": "stdout",
     "output_type": "stream",
     "text": [
      "[2.5]\n"
     ]
    }
   ],
   "source": [
    "if len_num3%2 == 0:\n",
    "    a = len_num3//2\n",
    "    b = a - 1\n",
    "    print([(num3[a]+num3[b])/2])\n",
    "else:\n",
    "    a = len_num3//2\n",
    "    print(num3[a])"
   ]
  },
  {
   "cell_type": "code",
   "execution_count": 23,
   "id": "f62c8a8b",
   "metadata": {},
   "outputs": [
    {
     "data": {
      "text/plain": [
       "[1, 2, 3]"
      ]
     },
     "execution_count": 23,
     "metadata": {},
     "output_type": "execute_result"
    }
   ],
   "source": [
    "li = [1,2,3]\n",
    "li"
   ]
  },
  {
   "cell_type": "code",
   "execution_count": 14,
   "id": "c479bbc0",
   "metadata": {},
   "outputs": [
    {
     "data": {
      "text/plain": [
       "1"
      ]
     },
     "execution_count": 14,
     "metadata": {},
     "output_type": "execute_result"
    }
   ],
   "source": [
    "len(li)//2"
   ]
  },
  {
   "cell_type": "code",
   "execution_count": 1,
   "id": "41ff4a23",
   "metadata": {},
   "outputs": [],
   "source": [
    "li = [1,2,3]"
   ]
  },
  {
   "cell_type": "code",
   "execution_count": 2,
   "id": "6b420ab7",
   "metadata": {},
   "outputs": [
    {
     "name": "stdout",
     "output_type": "stream",
     "text": [
      "3\n"
     ]
    }
   ],
   "source": [
    "print(len(li))"
   ]
  },
  {
   "cell_type": "code",
   "execution_count": 3,
   "id": "93d63284",
   "metadata": {},
   "outputs": [
    {
     "data": {
      "text/plain": [
       "1"
      ]
     },
     "execution_count": 3,
     "metadata": {},
     "output_type": "execute_result"
    }
   ],
   "source": [
    "li[0]"
   ]
  },
  {
   "cell_type": "code",
   "execution_count": 65,
   "id": "7b9b47b0",
   "metadata": {},
   "outputs": [],
   "source": [
    "def thirdMax(nums):\n",
    "    nums = list(set(nums))\n",
    "    nums.sort(reverse=True)\n",
    "    nums = nums[0:3]\n",
    "    print(nums, 'lenth',len(nums))\n",
    "    if len(nums)==3:\n",
    "        return(nums[2])\n",
    "    return (nums[0])"
   ]
  },
  {
   "cell_type": "code",
   "execution_count": 66,
   "id": "011844df",
   "metadata": {},
   "outputs": [
    {
     "name": "stdout",
     "output_type": "stream",
     "text": [
      "[3, 2, 1] lenth 3\n"
     ]
    },
    {
     "data": {
      "text/plain": [
       "1"
      ]
     },
     "execution_count": 66,
     "metadata": {},
     "output_type": "execute_result"
    }
   ],
   "source": [
    "li = [3,2,1]\n",
    "thirdMax(li)"
   ]
  },
  {
   "cell_type": "code",
   "execution_count": null,
   "id": "c1281770",
   "metadata": {},
   "outputs": [],
   "source": []
  },
  {
   "cell_type": "code",
   "execution_count": null,
   "id": "b5d08abf",
   "metadata": {},
   "outputs": [],
   "source": []
  }
 ],
 "metadata": {
  "kernelspec": {
   "display_name": "Python 3 (ipykernel)",
   "language": "python",
   "name": "python3"
  },
  "language_info": {
   "codemirror_mode": {
    "name": "ipython",
    "version": 3
   },
   "file_extension": ".py",
   "mimetype": "text/x-python",
   "name": "python",
   "nbconvert_exporter": "python",
   "pygments_lexer": "ipython3",
   "version": "3.11.5"
  }
 },
 "nbformat": 4,
 "nbformat_minor": 5
}
