{
 "cells": [
  {
   "cell_type": "markdown",
   "id": "21f5c145",
   "metadata": {},
   "source": [
    "# Print out the keys with duplicate values\n",
    "eg:  {'a':1, 'b':1 , 'c':2, 'd':3, 'e':2}  \\\n",
    "out : {1:['a','b', 2:['c', 'e']}"
   ]
  },
  {
   "cell_type": "code",
   "execution_count": 17,
   "id": "0a198a6f",
   "metadata": {},
   "outputs": [],
   "source": [
    "duplicates = {'a':1, 'b':1 , 'c':2, 'd':3, 'e':2}"
   ]
  },
  {
   "cell_type": "code",
   "execution_count": 18,
   "id": "b9a350b8",
   "metadata": {},
   "outputs": [],
   "source": [
    "out1 = {}\n",
    "for key, value in duplicates.items():\n",
    "    if value not in out1:\n",
    "        out1[value] = [key]\n",
    "    else:\n",
    "        out1[value].append(key)"
   ]
  },
  {
   "cell_type": "code",
   "execution_count": 16,
   "id": "d068510c",
   "metadata": {},
   "outputs": [
    {
     "data": {
      "text/plain": [
       "{1: ['a', 'b'], 2: ['c', 'e'], 3: ['d']}"
      ]
     },
     "execution_count": 16,
     "metadata": {},
     "output_type": "execute_result"
    }
   ],
   "source": [
    "out1"
   ]
  },
  {
   "cell_type": "code",
   "execution_count": null,
   "id": "91edeb44",
   "metadata": {},
   "outputs": [],
   "source": []
  }
 ],
 "metadata": {
  "kernelspec": {
   "display_name": "Python 3 (ipykernel)",
   "language": "python",
   "name": "python3"
  },
  "language_info": {
   "codemirror_mode": {
    "name": "ipython",
    "version": 3
   },
   "file_extension": ".py",
   "mimetype": "text/x-python",
   "name": "python",
   "nbconvert_exporter": "python",
   "pygments_lexer": "ipython3",
   "version": "3.11.5"
  }
 },
 "nbformat": 4,
 "nbformat_minor": 5
}
