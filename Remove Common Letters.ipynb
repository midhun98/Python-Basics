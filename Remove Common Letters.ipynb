{
 "cells": [
  {
   "cell_type": "markdown",
   "id": "8805e56c",
   "metadata": {},
   "source": [
    "## Remove common letters \n",
    "word1 = \"Rajesh\"\n",
    "word2 = \"Ganesh\"\n",
    "Out = RjGn"
   ]
  },
  {
   "cell_type": "code",
   "execution_count": 2,
   "id": "98813736",
   "metadata": {},
   "outputs": [],
   "source": [
    "word1 = \"Rajesh\"\n",
    "word2 = \"Ganesh\"\n",
    "out = \"\""
   ]
  },
  {
   "cell_type": "code",
   "execution_count": 3,
   "id": "f07a7980",
   "metadata": {},
   "outputs": [],
   "source": [
    "common_words = \"\"\n",
    "for letter in word1:\n",
    "    if letter not in word2:\n",
    "        common_words += letter"
   ]
  },
  {
   "cell_type": "code",
   "execution_count": 4,
   "id": "ab5c4a0b",
   "metadata": {},
   "outputs": [
    {
     "data": {
      "text/plain": [
       "'Rj'"
      ]
     },
     "execution_count": 4,
     "metadata": {},
     "output_type": "execute_result"
    }
   ],
   "source": [
    "common_words"
   ]
  },
  {
   "cell_type": "code",
   "execution_count": 5,
   "id": "30d5304a",
   "metadata": {},
   "outputs": [],
   "source": [
    "common_words2 = \"\"\n",
    "for letter in word2:\n",
    "    if letter not in word1:\n",
    "        common_words2 += letter"
   ]
  },
  {
   "cell_type": "code",
   "execution_count": 6,
   "id": "1f079fd4",
   "metadata": {},
   "outputs": [
    {
     "data": {
      "text/plain": [
       "'Gn'"
      ]
     },
     "execution_count": 6,
     "metadata": {},
     "output_type": "execute_result"
    }
   ],
   "source": [
    "common_words2"
   ]
  },
  {
   "cell_type": "code",
   "execution_count": 7,
   "id": "ef829902",
   "metadata": {},
   "outputs": [
    {
     "data": {
      "text/plain": [
       "'RjGn'"
      ]
     },
     "execution_count": 7,
     "metadata": {},
     "output_type": "execute_result"
    }
   ],
   "source": [
    "out = common_words + common_words2\n",
    "out"
   ]
  },
  {
   "cell_type": "code",
   "execution_count": 8,
   "id": "b9511dae",
   "metadata": {},
   "outputs": [
    {
     "name": "stdout",
     "output_type": "stream",
     "text": [
      "RjGn\n"
     ]
    }
   ],
   "source": [
    "word1 = \"Rajesh\"\n",
    "word2 = \"Ganesh\"\n",
    "out = \"\"\n",
    "\n",
    "common_words = \"\"\n",
    "for letter in word1:\n",
    "    if letter not in word2:\n",
    "        common_words += letter\n",
    "\n",
    "common_words2 = \"\"\n",
    "for letter in word2:\n",
    "    if letter not in word1:\n",
    "        common_words2 += letter\n",
    "\n",
    "out = common_words + common_words2\n",
    "\n",
    "print(out)"
   ]
  },
  {
   "cell_type": "code",
   "execution_count": null,
   "id": "e3a739da",
   "metadata": {},
   "outputs": [],
   "source": []
  }
 ],
 "metadata": {
  "kernelspec": {
   "display_name": "Python 3 (ipykernel)",
   "language": "python",
   "name": "python3"
  },
  "language_info": {
   "codemirror_mode": {
    "name": "ipython",
    "version": 3
   },
   "file_extension": ".py",
   "mimetype": "text/x-python",
   "name": "python",
   "nbconvert_exporter": "python",
   "pygments_lexer": "ipython3",
   "version": "3.11.5"
  }
 },
 "nbformat": 4,
 "nbformat_minor": 5
}
